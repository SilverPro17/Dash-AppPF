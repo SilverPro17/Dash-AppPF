{
 "cells": [
  {
   "cell_type": "markdown",
   "metadata": {},
   "source": [
    "# Análise Exploratória de Dados (EDA) - Temperatura da Superfície do Mar (SST)\n",
    "\n",
    "Este notebook realiza a análise exploratória inicial do dataset NOAA OI SST V2 High Resolution.\n",
    "\n",
    "**Dataset:** `sst.mon.mean.nc`\n",
    "**Fonte:** NOAA PSL THREDDS Server"
   ]
  },
  {
   "cell_type": "code",
   "execution_count": null,
   "metadata": {},
   "outputs": [],
   "source": [
    "import xarray as xr\n",
    "import numpy as np\n",
    "import pandas as pd\n",
    "import matplotlib.pyplot as plt\n",
    "import plotly.express as px\n",
    "\n",
    "# Desativar avisos de runtime do xarray, se necessário\n",
    "# xr.set_options(keep_attrs=True)\n",
    "\n",
    "print(\"Bibliotecas importadas com sucesso!\")"
   ]
  },
  {
   "cell_type": "markdown",
   "metadata": {},
   "source": [
    "## 1. Carregar o Dataset"
   ]
  },
  {
   "cell_type": "code",
   "execution_count": null,
   "metadata": {},
   "outputs": [],
   "source": [
    "# Caminho para o ficheiro NetCDF\n",
    "sst_file_path = \"../data/sst.mon.mean.nc\"\n",
    "\n",
    "# Carregar o dataset usando xarray\n",
    "# Usar engine=\"h5netcdf\" ou \"netcdf4\" se necessário\n",
    "try:\n",
    "    ds_sst = xr.open_dataset(sst_file_path)\n",
    "    print(\"Dataset SST carregado com sucesso.\")\n",
    "except FileNotFoundError:\n",
    "    print(f\"Erro: Ficheiro não encontrado em {sst_file_path}\")\n",
    "except Exception as e:\n",
    "    print(f\"Erro ao carregar o dataset: {e}\")"
   ]
  },
  {
   "cell_type": "markdown",
   "metadata": {},
   "source": [
    "## 2. Inspeção Inicial do Dataset"
   ]
  },
  {
   "cell_type": "code",
   "execution_count": null,
   "metadata": {},
   "outputs": [],
   "source": [
    "# Exibir a estrutura do dataset\n",
    "if 'ds_sst' in locals():\n",
    "    print(\"Estrutura do Dataset SST:\")\n",
    "    print(ds_sst)\n",
    "else:\n",
    "    print(\"Dataset não foi carregado corretamente.\")"
   ]
  },
  {
   "cell_type": "code",
   "execution_count": null,
   "metadata": {},
   "outputs": [],
   "source": [
    "# Verificar as variáveis disponíveis\n",
    "if 'ds_sst' in locals():\n",
    "    print(\"\\nVariáveis:\")\n",
    "    for var in ds_sst.data_vars:\n",
    "        print(f\"- {var}: {ds_sst[var].attrs.get('long_name', 'N/A')}\")\n",
    "\n",
    "    print(\"\\nCoordenadas:\")\n",
    "    for coord in ds_sst.coords:\n",
    "        print(f\"- {coord}\")\n",
    "\n",
    "    print(\"\\nAtributos Globais:\")\n",
    "    print(ds_sst.attrs)"
   ]
  },
  {
   "cell_type": "markdown",
   "metadata": {},
   "source": [
    "## 3. Análise Preliminar\n",
    "\n",
    "Vamos verificar a cobertura temporal e espacial."
   ]
  },
  {
   "cell_type": "code",
   "execution_count": null,
   "metadata": {},
   "outputs": [],
   "source": [
    "if 'ds_sst' in locals():\n",
    "    # Cobertura Temporal\n",
    "    time_min = ds_sst['time'].min().values\n",
    "    time_max = ds_sst['time'].max().values\n",
    "    print(f\"Cobertura Temporal: {np.datetime_as_string(time_min, unit='D')} a {np.datetime_as_string(time_max, unit='D')}\")\n",
    "\n",
    "    # Cobertura Espacial\n",
    "    lat_min, lat_max = ds_sst['lat'].min().values, ds_sst['lat'].max().values\n",
    "    lon_min, lon_max = ds_sst['lon'].min().values, ds_sst['lon'].max().values\n",
    "    print(f\"Cobertura Espacial (Lat): {lat_min}° a {lat_max}°\")\n",
    "    print(f\"Cobertura Espacial (Lon): {lon_min}° a {lon_max}°\")\n",
    "\n",
    "    # Verificar unidades da variável SST\n",
    "    sst_units = ds_sst['sst'].attrs.get('units', 'N/A')\n",
    "    print(f\"Unidades de SST: {sst_units}\")"
   ]
  },
  {
   "cell_type": "markdown",
   "metadata": {},
   "source": [
    "## 4. Visualização Inicial\n",
    "\n",
    "Vamos criar um mapa da SST média global para um período específico e uma série temporal para um ponto."
   ]
  },
  {
   "cell_type": "code",
   "execution_count": null,
   "metadata": {},
   "outputs": [],
   "source": [
    "if 'ds_sst' in locals():\n",
    "    # Calcular a média temporal da SST\n",
    "    sst_mean_global = ds_sst['sst'].mean(dim='time')\n",
    "\n",
    "    # Plotar o mapa da SST média global\n",
    "    plt.figure(figsize=(12, 6))\n",
    "    sst_mean_global.plot(cmap='viridis') # Ou outro colormap como 'coolwarm'\n",
    "    plt.title('Temperatura Média Global da Superfície do Mar (SST) - Média Mensal (1981-Presente)')\n",
    "    plt.xlabel('Longitude')\n",
    "    plt.ylabel('Latitude')\n",
    "    plt.tight_layout()\n",
    "    # Salvar a figura\n",
    "    plt.savefig('../report/sst_mean_global_map.png')\n",
    "    print(\"Mapa da SST média global salvo em ../report/sst_mean_global_map.png\")\n",
    "    # plt.show() # Descomentar para exibir no notebook interativamente"
   ]
  },
    {
   "cell_type": "code",
   "execution_count": null,
   "metadata": {},
   "outputs": [],
   "source": [
    "if 'ds_sst' in locals():\n",
    "    # Selecionar um ponto para a série temporal (ex: próximo ao Equador no Atlântico)\n",
    "    lat_point = 0\n",
    "    lon_point = 330 # Equivalente a -30 Oeste\n",
    "\n",
    "    sst_timeseries = ds_sst['sst'].sel(lat=lat_point, lon=lon_point, method='nearest')\n",
    "\n",
    "    # Plotar a série temporal\n",
    "    plt.figure(figsize=(12, 4))\n",
    "    sst_timeseries.plot()\n",
    "    plt.title(f'Série Temporal da SST Mensal no Ponto ({lat_point}°, {lon_point-360}°W)')\n",
    "    plt.xlabel('Data')\n",
    "    plt.ylabel(f'SST ({sst_units})')\n",
    "    plt.grid(True)\n",
    "    plt.tight_layout()\n",
    "    # Salvar a figura\n",
    "    plt.savefig('../report/sst_timeseries_point.png')\n",
    "    print(\"Série temporal da SST salva em ../report/sst_timeseries_point.png\")\n",
    "    # plt.show()"
   ]
  },
  {
   "cell_type": "markdown",
   "metadata": {},
   "source": [
    "## 5. Próximos Passos\n",
    "\n",
    "- Análise mais detalhada das distribuições.\n",
    "- Tratamento de valores ausentes (se houver).\n",
    "- Cálculo de anomalias.\n",
    "- Exploração de padrões sazonais e tendências.\n",
    "- Download e EDA do dataset de Clorofila-a."
   ]
  }
 ],
 "metadata": {
  "kernelspec": {
   "display_name": "Python 3",
   "language": "python",
   "name": "python3"
  },
  "language_info": {
   "codemirror_mode": {
    "name": "ipython",
    "version": 3
   },
   "file_extension": ".py",
   "mimetype": "text/x-python",
   "name": "python",
   "nbconvert_exporter": "python",
   "pygments_lexer": "ipython3",
   "version": "3.11.0"
  }
 },
 "nbformat": 4,
 "nbformat_minor": 4
}

